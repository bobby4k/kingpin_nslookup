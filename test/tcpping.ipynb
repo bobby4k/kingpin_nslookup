{
 "cells": [
  {
   "cell_type": "code",
   "execution_count": 2,
   "metadata": {},
   "outputs": [
    {
     "name": "stdout",
     "output_type": "stream",
     "text": [
      "0\n",
      "CompletedProcess(args=['tcping', '-c', '1', '-t', '1', 'github.com'], returncode=0)\n"
     ]
    }
   ],
   "source": [
    "import subprocess as sp\n",
    "\n",
    "# Print the return code (status=0 mean ping success)\n",
    "status = sp.call(['tcping', '-c', '1', '-t', '1', 'github.com'], stdout=sp.DEVNULL, stderr=sp.DEVNULL)\n",
    "print(status)\n",
    "\n",
    "# OR print the full message\n",
    "status = sp.run(['tcping', '-c', '1', '-t', '1', 'github.com'], stdout=sp.DEVNULL, stderr=sp.DEVNULL)\n",
    "print(status)"
   ]
  },
  {
   "cell_type": "code",
   "execution_count": 5,
   "metadata": {},
   "outputs": [
    {
     "name": "stdout",
     "output_type": "stream",
     "text": [
      "Connected to 18.162.184.7[:80]: seq=1 time=101.48 ms\n",
      "Connected to 18.162.184.7[:80]: seq=2 time=123.42 ms\n",
      "Connected to 18.162.184.7[:80]: seq=3 time=102.33 ms\n",
      "Connected to 18.162.184.7[:80]: seq=4 time=100.05 ms\n",
      "Connected to 18.162.184.7[:80]: seq=5 time=102.30 ms\n",
      "Connected to 18.162.184.7[:80]: seq=6 time=107.81 ms\n",
      "Connected to 18.162.184.7[:80]: seq=7 time=104.76 ms\n",
      "Connected to 18.162.184.7[:80]: seq=8 time=116.21 ms\n",
      "Connected to 18.162.184.7[:80]: seq=9 time=118.27 ms\n",
      "Connected to 18.162.184.7[:80]: seq=10 time=121.65 ms\n",
      "Statistics(host='18.162.184.7', port=80, successed=10, failed=0, success_rate='100.00%', minimum='100.05ms', maximum='123.42ms', average='109.83ms')\n",
      "\n",
      "--- 18.162.184.7[:80] tcping statistics ---\n",
      "10 connections, 10 successed, 0 failed, 100.00% success rate\n",
      "minimum = 100.05ms, maximum = 123.42ms, average = 109.83ms\n",
      "\n",
      "+--------------+------+-----------+--------+--------------+----------+----------+----------+\n",
      "|     Host     | Port | Successed | Failed | Success Rate | Minimum  | Maximum  | Average  |\n",
      "+--------------+------+-----------+--------+--------------+----------+----------+----------+\n",
      "| 18.162.184.7 |  80  |     10    |   0    |   100.00%    | 100.05ms | 123.42ms | 109.83ms |\n",
      "+--------------+------+-----------+--------+--------------+----------+----------+----------+\n"
     ]
    }
   ],
   "source": [
    "from tcping import Ping\n",
    "\n",
    "def ping_check():\n",
    "    ping = Ping('18.162.184.7', 80, 1)\n",
    "    ping.ping(10)\n",
    "\n",
    "    ret = ping.result.rows\n",
    "    for r in ret:\n",
    "        print(r)\n",
    "\n",
    "    ret = ping.result.raw\n",
    "    print(ret)\n",
    "\n",
    "    ret = ping.result.table\n",
    "    print(ret)\n",
    "\n",
    "ping_check()"
   ]
  },
  {
   "cell_type": "code",
   "execution_count": null,
   "metadata": {},
   "outputs": [],
   "source": [
    "import requests\n",
    "\n",
    "# header = {\"Host\": 'www.okx.com'}\n",
    "# url = 'https://13.35.125.81/api/v5/public/time'\n",
    "# response = requests.get(url, headers=header, verify=False)\n",
    "# print(response.json())\n",
    "\n",
    "\n",
    "class HostHeaderSSLAdapter(requests.adapters.HTTPAdapter):\n",
    "    def resolve(self, hostname):\n",
    "        # a dummy DNS resolver\n",
    "        import random\n",
    "        ips = [\n",
    "            # '104.16.89.20',  # CloudFlare\n",
    "            # '151.101.2.109',  # Fastly\n",
    "            '16.163.225.163',\n",
    "        ]\n",
    "        resolutions = {\n",
    "            'www.okx.com': random.choice(ips),\n",
    "        }\n",
    "        return resolutions.get(hostname)\n",
    "\n",
    "    def send(self, request, **kwargs):\n",
    "        from urllib.parse import urlparse\n",
    "\n",
    "        connection_pool_kwargs = self.poolmanager.connection_pool_kw\n",
    "\n",
    "        result = urlparse(request.url)\n",
    "        resolved_ip = self.resolve(result.hostname)\n",
    "\n",
    "        if result.scheme == 'https' and resolved_ip:\n",
    "            request.url = request.url.replace(\n",
    "                'https://' + result.hostname,\n",
    "                'https://' + resolved_ip,\n",
    "            )\n",
    "            connection_pool_kwargs['server_hostname'] = result.hostname  # SNI\n",
    "            connection_pool_kwargs['assert_hostname'] = result.hostname\n",
    "\n",
    "            # overwrite the host header\n",
    "            request.headers['Host'] = result.hostname\n",
    "        else:\n",
    "            # theses headers from a previous request may have been left\n",
    "            connection_pool_kwargs.pop('server_hostname', None)\n",
    "            connection_pool_kwargs.pop('assert_hostname', None)\n",
    "\n",
    "        return super(HostHeaderSSLAdapter, self).send(request, **kwargs)\n",
    "\n",
    "\n",
    "\n",
    "# url = 'https://cdn.jsdelivr.net/npm/bootstrap/LICENSE'\n",
    "url = 'https://www.okx.com/api/v5/public/time'\n",
    "\n",
    "session = requests.Session()\n",
    "session.mount('https://', HostHeaderSSLAdapter())\n",
    "\n",
    "r = session.get(url)\n",
    "print(r.headers)\n",
    "\n",
    "\n"
   ]
  },
  {
   "cell_type": "code",
   "execution_count": 12,
   "metadata": {},
   "outputs": [
    {
     "name": "stdout",
     "output_type": "stream",
     "text": [
      "{'code': '0', 'data': [{'ts': '1663053562450'}], 'msg': ''}\n"
     ]
    }
   ],
   "source": [
    "import requests\n",
    "from forcediphttpsadapter.adapters import ForcedIPHTTPSAdapter\n",
    "requests.urllib3.disable_warnings() \n",
    "\n",
    "session = requests.Session()\n",
    "session.mount(\"https://www.okx.com\", ForcedIPHTTPSAdapter(dest_ip='13.35.125.81'))\n",
    "response = session.get(\n",
    "    'https://www.okx.com/api/v5/public/time', verify=False)\n",
    "\n",
    "print( response.json() )"
   ]
  },
  {
   "cell_type": "code",
   "execution_count": null,
   "metadata": {},
   "outputs": [],
   "source": [
    "import requests\n",
    "from requests_toolbelt.adapters.host_header_ssl import HostHeaderSSLAdapter\n",
    "\n",
    "s = requests.session()\n",
    "s.mount('https://', HostHeaderSSLAdapter())\n",
    "res = s.get(\"https://13.35.125.81/api/v5/public/time\", headers={\"Host\": \"www.okx.com\"})\n",
    "print( res.json() )\n",
    "\n"
   ]
  }
 ],
 "metadata": {
  "kernelspec": {
   "display_name": "Python 3.10.4 ('kp_nslookup')",
   "language": "python",
   "name": "python3"
  },
  "language_info": {
   "codemirror_mode": {
    "name": "ipython",
    "version": 3
   },
   "file_extension": ".py",
   "mimetype": "text/x-python",
   "name": "python",
   "nbconvert_exporter": "python",
   "pygments_lexer": "ipython3",
   "version": "3.10.4"
  },
  "orig_nbformat": 4,
  "vscode": {
   "interpreter": {
    "hash": "521b7f23b532f53475ca05cec2e9c472ee29bc1472abb6ec175d8509f6d1f134"
   }
  }
 },
 "nbformat": 4,
 "nbformat_minor": 2
}
