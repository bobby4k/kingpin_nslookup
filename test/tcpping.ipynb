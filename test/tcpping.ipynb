{
 "cells": [
  {
   "cell_type": "code",
   "execution_count": 2,
   "metadata": {},
   "outputs": [
    {
     "name": "stdout",
     "output_type": "stream",
     "text": [
      "0\n",
      "CompletedProcess(args=['tcping', '-c', '1', '-t', '1', 'github.com'], returncode=0)\n"
     ]
    }
   ],
   "source": [
    "import subprocess as sp\n",
    "\n",
    "# Print the return code (status=0 mean ping success)\n",
    "status = sp.call(['tcping', '-c', '1', '-t', '1', 'github.com'], stdout=sp.DEVNULL, stderr=sp.DEVNULL)\n",
    "print(status)\n",
    "\n",
    "# OR print the full message\n",
    "status = sp.run(['tcping', '-c', '1', '-t', '1', 'github.com'], stdout=sp.DEVNULL, stderr=sp.DEVNULL)\n",
    "print(status)"
   ]
  },
  {
   "cell_type": "code",
   "execution_count": 1,
   "metadata": {},
   "outputs": [
    {
     "name": "stdout",
     "output_type": "stream",
     "text": [
      "Connected to 18.162.184.7[:80]: seq=1 time=102.65 ms\n",
      "Connected to 18.162.184.7[:80]: seq=2 time=99.75 ms\n",
      "Connected to 18.162.184.7[:80]: seq=3 time=105.04 ms\n",
      "Statistics(host='18.162.184.7', port=80, successed=3, failed=0, success_rate='100.00%', minimum='99.75ms', maximum='105.04ms', average='102.48ms')\n",
      "\n",
      "--- 18.162.184.7[:80] tcping statistics ---\n",
      "3 connections, 3 successed, 0 failed, 100.00% success rate\n",
      "minimum = 99.75ms, maximum = 105.04ms, average = 102.48ms\n",
      "\n",
      "+--------------+------+-----------+--------+--------------+---------+----------+----------+\n",
      "|     Host     | Port | Successed | Failed | Success Rate | Minimum | Maximum  | Average  |\n",
      "+--------------+------+-----------+--------+--------------+---------+----------+----------+\n",
      "| 18.162.184.7 |  80  |     3     |   0    |   100.00%    | 99.75ms | 105.04ms | 102.48ms |\n",
      "+--------------+------+-----------+--------+--------------+---------+----------+----------+\n"
     ]
    }
   ],
   "source": [
    "from tcping import Ping\n",
    "\n",
    "def ping_check():\n",
    "    ping = Ping('18.162.184.7', 80, 1)\n",
    "    ping.ping(3)\n",
    "\n",
    "    ret = ping.result.rows\n",
    "    for r in ret:\n",
    "        print(r)\n",
    "\n",
    "    ret = ping.result.raw\n",
    "    print(ret)\n",
    "\n",
    "    ret = ping.result.table\n",
    "    print(ret)\n",
    "\n",
    "ping_check()"
   ]
  },
  {
   "cell_type": "code",
   "execution_count": 3,
   "metadata": {},
   "outputs": [
    {
     "name": "stdout",
     "output_type": "stream",
     "text": [
      "100.0 105.3\n"
     ]
    }
   ],
   "source": [
    "a = '100.00%'\n",
    "b = '105.30ms'\n",
    "\n",
    "a = float(a.rstrip('%'))\n",
    "b = float(b.rstrip('ms'))\n",
    "\n",
    "print(a,b)\n"
   ]
  },
  {
   "cell_type": "code",
   "execution_count": 10,
   "metadata": {},
   "outputs": [
    {
     "name": "stdout",
     "output_type": "stream",
     "text": [
      "[{'ip': '151.101.129.229', 'delay': 89.18}, {'ip': '151.101.193.229', 'delay': 90.48}, {'ip': '151.101.2.109', 'delay': 91.05}, {'ip': '104.16.88.20', 'delay': 159.9}, {'ip': '104.16.87.20', 'delay': 160.54}, {'ip': '104.16.89.20', 'delay': 161.19}, {'ip': '104.16.85.20', 'delay': 170.16}, {'ip': '104.16.86.20', 'delay': 198.99}]\n",
      "[{'ip': '151.101.129.229', 'delay': 89.18, 'check': 1}, {'ip': '151.101.193.229', 'delay': 90.48}, {'ip': '151.101.2.109', 'delay': 91.05}, {'ip': '104.16.88.20', 'delay': 159.9}, {'ip': '104.16.87.20', 'delay': 160.54}, {'ip': '104.16.89.20', 'delay': 161.19}, {'ip': '104.16.85.20', 'delay': 170.16}, {'ip': '104.16.86.20', 'delay': 198.99}]\n"
     ]
    }
   ],
   "source": [
    "ip_res = [{'ip': '104.16.86.20', 'delay': 198.99}, {'ip': '151.101.2.109', 'delay': 91.05}, {'ip': '104.16.89.20', 'delay': 161.19}, {'ip': '104.16.85.20', 'delay': 170.16}, {'ip': '104.16.88.20', 'delay': 159.9}, {'ip': '151.101.193.229', 'delay': 90.48}, {'ip': '104.16.87.20', 'delay': 160.54}, {'ip': '151.101.129.229', 'delay': 89.18}]\n",
    "\n",
    "ip_res.sort(key=lambda x:x['delay'], reverse=False)\n",
    "print(ip_res)\n",
    "\n",
    "tmp_re = ip_res[0]\n",
    "tmp_re.update({'check':1})\n",
    "ip_res[0] = tmp_re\n",
    "print(ip_res)\n",
    "\n",
    "\n"
   ]
  },
  {
   "cell_type": "code",
   "execution_count": null,
   "metadata": {},
   "outputs": [],
   "source": []
  }
 ],
 "metadata": {
  "kernelspec": {
   "display_name": "Python 3.10.4 ('kp_nslookup')",
   "language": "python",
   "name": "python3"
  },
  "language_info": {
   "codemirror_mode": {
    "name": "ipython",
    "version": 3
   },
   "file_extension": ".py",
   "mimetype": "text/x-python",
   "name": "python",
   "nbconvert_exporter": "python",
   "pygments_lexer": "ipython3",
   "version": "3.10.4"
  },
  "orig_nbformat": 4,
  "vscode": {
   "interpreter": {
    "hash": "521b7f23b532f53475ca05cec2e9c472ee29bc1472abb6ec175d8509f6d1f134"
   }
  }
 },
 "nbformat": 4,
 "nbformat_minor": 2
}
