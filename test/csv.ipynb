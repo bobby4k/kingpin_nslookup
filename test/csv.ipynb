{
 "cells": [
  {
   "cell_type": "code",
   "execution_count": 2,
   "metadata": {},
   "outputs": [
    {
     "name": "stdout",
     "output_type": "stream",
     "text": [
      "Name,John\n",
      "Age,23\n",
      "Country,USA\n",
      "\n"
     ]
    }
   ],
   "source": [
    "# dict 键值对写入\n",
    "import csv\n",
    "\n",
    "dct = {'Name': 'John', 'Age': '23', 'Country': 'USA'}\n",
    "file = 'test.csv'\n",
    "\n",
    "with open(file, 'w') as f:  \n",
    "    writer = csv.writer(f)\n",
    "    for k, v in dct.items():\n",
    "        writer.writerow([k, v])\n",
    "\n",
    "f = open(file)\n",
    "content = f.read()\n",
    "print(content)\n",
    "f.close()\n",
    "\n",
    "\n"
   ]
  },
  {
   "cell_type": "code",
   "execution_count": 3,
   "metadata": {},
   "outputs": [
    {
     "name": "stdout",
     "output_type": "stream",
     "text": [
      "Name,Age,Country\n",
      "John,23,USA\n",
      "Jose,44,Spain\n",
      "Anne,29,UK\n",
      "Lee,35,Japan\n",
      "\n"
     ]
    }
   ],
   "source": [
    "#字典数组\n",
    "import csv\n",
    "\n",
    "labels = ['Name', 'Age', 'Country']\n",
    "dct_arr = [\n",
    "    {'Name': 'John', 'Age': '23', 'Country': 'USA'},\n",
    "    {'Name': 'Jose', 'Age': '44', 'Country': 'Spain'},\n",
    "    {'Name': 'Anne', 'Age': '29', 'Country': 'UK'},\n",
    "    {'Name': 'Lee', 'Age': '35', 'Country': 'Japan'}\n",
    "]\n",
    "file = 'test.csv'\n",
    "\n",
    "try:\n",
    "    with open(file, 'w') as f:\n",
    "        writer = csv.DictWriter(f, fieldnames=labels)\n",
    "        writer.writeheader()\n",
    "        for elem in dct_arr:\n",
    "            writer.writerow(elem)\n",
    "    \n",
    "    f = open(file)\n",
    "    content = f.read()\n",
    "    print(content)\n",
    "    f.close()\n",
    "    \n",
    "except IOError:\n",
    "    print(\"I/O error\")"
   ]
  }
 ],
 "metadata": {
  "kernelspec": {
   "display_name": "Python 3.10.4 ('kp_nslookup')",
   "language": "python",
   "name": "python3"
  },
  "language_info": {
   "codemirror_mode": {
    "name": "ipython",
    "version": 3
   },
   "file_extension": ".py",
   "mimetype": "text/x-python",
   "name": "python",
   "nbconvert_exporter": "python",
   "pygments_lexer": "ipython3",
   "version": "3.10.4"
  },
  "orig_nbformat": 4,
  "vscode": {
   "interpreter": {
    "hash": "521b7f23b532f53475ca05cec2e9c472ee29bc1472abb6ec175d8509f6d1f134"
   }
  }
 },
 "nbformat": 4,
 "nbformat_minor": 2
}
