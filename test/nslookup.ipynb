{
 "cells": [
  {
   "cell_type": "code",
   "execution_count": 15,
   "metadata": {},
   "outputs": [
    {
     "name": "stdout",
     "output_type": "stream",
     "text": [
      "['static.okx.com. 83 IN CNAME dfccd2aelcoyz.cloudfront.net.', 'dfccd2aelcoyz.cloudfront.net. 51 IN A 13.35.125.92\\ndfccd2aelcoyz.cloudfront.net. 51 IN A 13.35.125.17\\ndfccd2aelcoyz.cloudfront.net. 51 IN A 13.35.125.43\\ndfccd2aelcoyz.cloudfront.net. 51 IN A 13.35.125.81'] ['13.35.125.92', '13.35.125.17', '13.35.125.43', '13.35.125.81']\n",
      "['static.okx.com. 51 IN CNAME dfccd2aelcoyz.cloudfront.net.', 'dfccd2aelcoyz.cloudfront.net. 51 IN SOA ns-479.awsdns-59.com. awsdns-hostmaster.amazon.com. 1 7200 900 1209600 86400'] ['dfccd2aelcoyz.cloudfront.net.', 'ns-479.awsdns-59.com. awsdns-hostmaster.amazon.com. 1 7200 900 1209600 86400']\n",
      "\n",
      "\n",
      "\tip lists: ['13.35.125.92', '13.35.125.17', '13.35.125.43', '13.35.125.81']\n"
     ]
    }
   ],
   "source": [
    "from nslookup import Nslookup\n",
    "\n",
    "domain = \"static.okx.com\"\n",
    "domain = \"okx.com\"\n",
    "\n",
    "# Initialize Nslookup\n",
    "dns_query = Nslookup()\n",
    "# Alternatively, the Nslookup constructor supports optional\n",
    "# arguments for setting custom dns servers (defaults to system DNS),\n",
    "# verbosity (default: True) and using TCP instead of UDP (default: False)\n",
    "dns_query = Nslookup(dns_servers=[\"8.8.8.8\"], verbose=False, tcp=False)\n",
    "\n",
    "ips_record = dns_query.dns_lookup(domain)\n",
    "print(ips_record.response_full, ips_record.answer)\n",
    "\n",
    "soa_record = dns_query.soa_lookup(domain)\n",
    "print(soa_record.response_full, soa_record.answer)\n",
    "\n",
    "\n",
    "print(f\"\\n\\n\\tip lists: {ips_record.answer}\")"
   ]
  }
 ],
 "metadata": {
  "language_info": {
   "name": "python"
  },
  "orig_nbformat": 4
 },
 "nbformat": 4,
 "nbformat_minor": 2
}
