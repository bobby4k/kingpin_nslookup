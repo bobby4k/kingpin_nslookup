{
 "cells": [
  {
   "cell_type": "code",
   "execution_count": 16,
   "metadata": {},
   "outputs": [
    {
     "name": "stdout",
     "output_type": "stream",
     "text": [
      "['okx.com. 60 IN A 18.163.65.176\\nokx.com. 60 IN A 16.163.81.110\\nokx.com. 60 IN A 18.162.84.94\\nokx.com. 60 IN A 16.162.228.228\\nokx.com. 60 IN A 18.162.184.7\\nokx.com. 60 IN A 18.167.160.12\\nokx.com. 60 IN A 18.163.83.143\\nokx.com. 60 IN A 16.163.84.236'] ['18.163.65.176', '16.163.81.110', '18.162.84.94', '16.162.228.228', '18.162.184.7', '18.167.160.12', '18.163.83.143', '16.163.84.236']\n",
      "['okx.com. 900 IN SOA ns-1509.awsdns-60.org. awsdns-hostmaster.amazon.com. 1 7200 900 1209600 86400'] ['ns-1509.awsdns-60.org. awsdns-hostmaster.amazon.com. 1 7200 900 1209600 86400']\n",
      "\n",
      "\n",
      "\tip lists: ['18.163.65.176', '16.163.81.110', '18.162.84.94', '16.162.228.228', '18.162.184.7', '18.167.160.12', '18.163.83.143', '16.163.84.236']\n"
     ]
    }
   ],
   "source": [
    "from nslookup import Nslookup\n",
    "\n",
    "domain = \"static.okx.com\"\n",
    "domain = \"okx.com\"\n",
    "\n",
    "# Initialize Nslookup\n",
    "dns_query = Nslookup()\n",
    "# Alternatively, the Nslookup constructor supports optional\n",
    "# arguments for setting custom dns servers (defaults to system DNS),\n",
    "# verbosity (default: True) and using TCP instead of UDP (default: False)\n",
    "dns_query = Nslookup(dns_servers=[\"8.8.8.8\"], verbose=False, tcp=False)\n",
    "\n",
    "ips_record = dns_query.dns_lookup(domain)\n",
    "print(ips_record.response_full, ips_record.answer)\n",
    "\n",
    "soa_record = dns_query.soa_lookup(domain)\n",
    "print(soa_record.response_full, soa_record.answer)\n",
    "\n",
    "\n",
    "print(f\"\\n\\n\\tip lists: {ips_record.answer}\")"
   ]
  }
 ],
 "metadata": {
  "kernelspec": {
   "display_name": "Python 3.10.4 ('kp_nslookup')",
   "language": "python",
   "name": "python3"
  },
  "language_info": {
   "name": "python",
   "version": "3.10.4"
  },
  "orig_nbformat": 4,
  "vscode": {
   "interpreter": {
    "hash": "521b7f23b532f53475ca05cec2e9c472ee29bc1472abb6ec175d8509f6d1f134"
   }
  }
 },
 "nbformat": 4,
 "nbformat_minor": 2
}
