{
 "cells": [
  {
   "cell_type": "code",
   "execution_count": 6,
   "metadata": {},
   "outputs": [
    {
     "name": "stdout",
     "output_type": "stream",
     "text": [
      "239\n",
      "45\n"
     ]
    }
   ],
   "source": [
    "file = '/mnt/e/Workspace/myiplist.txt'\n",
    "f = open(file)\n",
    "content = f.read()\n",
    "# print(content)\n",
    "f.close()\n",
    "\n",
    "mylist = content.split(\"\\n\")\n",
    "# mylist = list(set(mylist))\n",
    "print(len(list))\n",
    "mydict = {}\n",
    "for ip in list:\n",
    "    ip=ip.strip()\n",
    "    if mydict.__contains__(ip) == False:\n",
    "        mydict.update({ip:ip})\n",
    "\n",
    "print(len(mydict))\n",
    "\n"
   ]
  }
 ],
 "metadata": {
  "kernelspec": {
   "display_name": "Python 3.10.4 ('kp_nslookup')",
   "language": "python",
   "name": "python3"
  },
  "language_info": {
   "codemirror_mode": {
    "name": "ipython",
    "version": 3
   },
   "file_extension": ".py",
   "mimetype": "text/x-python",
   "name": "python",
   "nbconvert_exporter": "python",
   "pygments_lexer": "ipython3",
   "version": "3.10.4"
  },
  "orig_nbformat": 4,
  "vscode": {
   "interpreter": {
    "hash": "521b7f23b532f53475ca05cec2e9c472ee29bc1472abb6ec175d8509f6d1f134"
   }
  }
 },
 "nbformat": 4,
 "nbformat_minor": 2
}
