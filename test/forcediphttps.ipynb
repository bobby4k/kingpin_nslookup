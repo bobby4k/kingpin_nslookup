{
 "cells": [
  {
   "cell_type": "code",
   "execution_count": 5,
   "metadata": {},
   "outputs": [
    {
     "name": "stdout",
     "output_type": "stream",
     "text": [
      "{\"code\":\"0\",\"data\":[{\"ts\":\"1663055095664\"}],\"msg\":\"\"}\n"
     ]
    }
   ],
   "source": [
    "import urllib3\n",
    "\n",
    "pool = urllib3.HTTPSConnectionPool(\n",
    "    '13.35.125.81',\n",
    "    # assert_hostname = \"www.okx.com\",\n",
    "    server_hostname = \"www.okx.com\",\n",
    ")\n",
    "a  = pool.urlopen(\n",
    "    \"GET\",\n",
    "    \"/api/v5/public/time\",\n",
    "    headers={\"Host\":\"www.okx.com\"},\n",
    "    # assert_same_host=False,\n",
    ")\n",
    "\n",
    "print(a.data.decode())\n"
   ]
  }
 ],
 "metadata": {
  "kernelspec": {
   "display_name": "Python 3.10.4 ('kp_nslookup')",
   "language": "python",
   "name": "python3"
  },
  "language_info": {
   "codemirror_mode": {
    "name": "ipython",
    "version": 3
   },
   "file_extension": ".py",
   "mimetype": "text/x-python",
   "name": "python",
   "nbconvert_exporter": "python",
   "pygments_lexer": "ipython3",
   "version": "3.10.4"
  },
  "orig_nbformat": 4,
  "vscode": {
   "interpreter": {
    "hash": "521b7f23b532f53475ca05cec2e9c472ee29bc1472abb6ec175d8509f6d1f134"
   }
  }
 },
 "nbformat": 4,
 "nbformat_minor": 2
}
