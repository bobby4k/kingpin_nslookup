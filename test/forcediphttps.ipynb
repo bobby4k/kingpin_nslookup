{
 "cells": [
  {
   "cell_type": "code",
   "execution_count": 2,
   "metadata": {},
   "outputs": [
    {
     "name": "stdout",
     "output_type": "stream",
     "text": [
      "200 <class 'int'>\n",
      "{\"code\":\"0\",\"data\":[{\"ts\":\"1663151941081\"}],\"msg\":\"\"}\n",
      "1663151940.44398\n"
     ]
    }
   ],
   "source": [
    "import urllib3\n",
    "\n",
    "pool = urllib3.HTTPSConnectionPool(\n",
    "    '13.35.125.81',\n",
    "    # assert_hostname = \"www.okx.com\",\n",
    "    # HTTPSConnection 使用以下选项之一 assert_fingerprint ， assert_hostname 和 host 按此顺序验证连接。如果 assert_hostname 为假，则不进行任何验证。\n",
    "    server_hostname = \"www.okx.com\",\n",
    ")\n",
    "a  = pool.urlopen(\n",
    "    \"GET\",\n",
    "    \"/api/v5/public/time\",\n",
    "    headers={\"Host\":\"www.okx.com\"},\n",
    "    # assert_same_host=False,\n",
    "    # assert_same_host -- 如果 True 将确保池请求的主机一致，否则将引发HostChangedError。什么时候 False ，您可以在HTTP代理上使用该池并请求外部主机。\n",
    ")\n",
    "\n",
    "print(a.status, type(a.status))\n",
    "print(a.data.decode())\n",
    "\n",
    "import time\n",
    "print( time.time())\n"
   ]
  },
  {
   "cell_type": "code",
   "execution_count": 3,
   "metadata": {},
   "outputs": [
    {
     "name": "stdout",
     "output_type": "stream",
     "text": [
      "https None www.okx.com /api/v5/public/time\n"
     ]
    },
    {
     "data": {
      "text/plain": [
       "urllib3.util.url.Url"
      ]
     },
     "execution_count": 3,
     "metadata": {},
     "output_type": "execute_result"
    }
   ],
   "source": [
    "import urllib3\n",
    "url = 'https://www.okx.com/api/v5/public/time'\n",
    "p = urllib3.util.url.parse_url(url)\n",
    "print(p.scheme, \n",
    "p.port,\n",
    "p.hostname,\n",
    "p.path,)\n",
    "type(p)"
   ]
  },
  {
   "cell_type": "code",
   "execution_count": null,
   "metadata": {},
   "outputs": [],
   "source": [
    "import requests\n",
    "\n",
    "# header = {\"Host\": 'www.okx.com'}\n",
    "# url = 'https://13.35.125.81/api/v5/public/time'\n",
    "# response = requests.get(url, headers=header, verify=False)\n",
    "# print(response.json())\n",
    "\n",
    "\n",
    "class HostHeaderSSLAdapter(requests.adapters.HTTPAdapter):\n",
    "    def resolve(self, hostname):\n",
    "        # a dummy DNS resolver\n",
    "        import random\n",
    "        ips = [\n",
    "            # '104.16.89.20',  # CloudFlare\n",
    "            # '151.101.2.109',  # Fastly\n",
    "            '16.163.225.163',\n",
    "        ]\n",
    "        resolutions = {\n",
    "            'www.okx.com': random.choice(ips),\n",
    "        }\n",
    "        return resolutions.get(hostname)\n",
    "\n",
    "    def send(self, request, **kwargs):\n",
    "        from urllib.parse import urlparse\n",
    "\n",
    "        connection_pool_kwargs = self.poolmanager.connection_pool_kw\n",
    "\n",
    "        result = urlparse(request.url)\n",
    "        resolved_ip = self.resolve(result.hostname)\n",
    "\n",
    "        if result.scheme == 'https' and resolved_ip:\n",
    "            request.url = request.url.replace(\n",
    "                'https://' + result.hostname,\n",
    "                'https://' + resolved_ip,\n",
    "            )\n",
    "            connection_pool_kwargs['server_hostname'] = result.hostname  # SNI\n",
    "            connection_pool_kwargs['assert_hostname'] = result.hostname\n",
    "\n",
    "            # overwrite the host header\n",
    "            request.headers['Host'] = result.hostname\n",
    "        else:\n",
    "            # theses headers from a previous request may have been left\n",
    "            connection_pool_kwargs.pop('server_hostname', None)\n",
    "            connection_pool_kwargs.pop('assert_hostname', None)\n",
    "\n",
    "        return super(HostHeaderSSLAdapter, self).send(request, **kwargs)\n",
    "\n",
    "\n",
    "\n",
    "# url = 'https://cdn.jsdelivr.net/npm/bootstrap/LICENSE'\n",
    "url = 'https://www.okx.com/api/v5/public/time'\n",
    "\n",
    "session = requests.Session()\n",
    "session.mount('https://', HostHeaderSSLAdapter())\n",
    "\n",
    "r = session.get(url)\n",
    "print(r.headers)\n",
    "\n",
    "\n"
   ]
  },
  {
   "cell_type": "code",
   "execution_count": null,
   "metadata": {},
   "outputs": [
    {
     "name": "stdout",
     "output_type": "stream",
     "text": [
      "{'code': '0', 'data': [{'ts': '1663053562450'}], 'msg': ''}\n"
     ]
    }
   ],
   "source": [
    "import requests\n",
    "from forcediphttpsadapter.adapters import ForcedIPHTTPSAdapter\n",
    "requests.urllib3.disable_warnings() \n",
    "\n",
    "session = requests.Session()\n",
    "session.mount(\"https://www.okx.com\", ForcedIPHTTPSAdapter(dest_ip='13.35.125.81'))\n",
    "response = session.get(\n",
    "    'https://www.okx.com/api/v5/public/time', verify=False)\n",
    "\n",
    "print( response.json() )"
   ]
  },
  {
   "cell_type": "code",
   "execution_count": null,
   "metadata": {},
   "outputs": [],
   "source": [
    "import requests\n",
    "from requests_toolbelt.adapters.host_header_ssl import HostHeaderSSLAdapter\n",
    "\n",
    "s = requests.session()\n",
    "s.mount('https://', HostHeaderSSLAdapter())\n",
    "res = s.get(\"https://13.35.125.81/api/v5/public/time\", headers={\"Host\": \"www.okx.com\"})\n",
    "print( res.json() )\n",
    "\n"
   ]
  }
 ],
 "metadata": {
  "kernelspec": {
   "display_name": "Python 3.10.4 ('kp_nslookup')",
   "language": "python",
   "name": "python3"
  },
  "language_info": {
   "codemirror_mode": {
    "name": "ipython",
    "version": 3
   },
   "file_extension": ".py",
   "mimetype": "text/x-python",
   "name": "python",
   "nbconvert_exporter": "python",
   "pygments_lexer": "ipython3",
   "version": "3.10.4"
  },
  "orig_nbformat": 4,
  "vscode": {
   "interpreter": {
    "hash": "521b7f23b532f53475ca05cec2e9c472ee29bc1472abb6ec175d8509f6d1f134"
   }
  }
 },
 "nbformat": 4,
 "nbformat_minor": 2
}
